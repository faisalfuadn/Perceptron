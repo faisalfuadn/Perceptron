{
 "cells": [
  {
   "cell_type": "code",
   "execution_count": 2,
   "metadata": {},
   "outputs": [],
   "source": [
    "from perceptron import perceptron"
   ]
  },
  {
   "cell_type": "code",
   "execution_count": 5,
   "metadata": {},
   "outputs": [
    {
     "data": {
      "image/png": "[encoded data removed]",
      "text/plain": [
       "<Figure size 432x288 with 1 Axes>"
      ]
     },
     "metadata": {
      "needs_background": "light"
     },
     "output_type": "display_data"
    }
   ],
   "source": [
    "#initating data using sklearn\n",
    "import matplotlib.pyplot as plt\n",
    "from sklearn import datasets\n",
    "from sklearn.model_selection import train_test_split\n",
    "X, Y = datasets.make_blobs(n_samples=100, centers=2, n_features=2, center_box=(0, 5))\n",
    "x_training, x_test, y_training, y_test = train_test_split(X, Y, test_size=0.2, random_state=42)\n",
    "plt.plot(x_training[:, 0][y_training == 0], x_training[:, 1][y_training == 0], 'r^')\n",
    "plt.plot(x_training[:, 0][y_training == 1], x_training[:, 1][y_training == 1], 'bs')\n",
    "plt.show()"
   ]
  },
  {
   "cell_type": "code",
   "execution_count": null,
   "metadata": {},
   "outputs": [],
   "source": [
    "Perceptron= perceptron(x_training.shape[-1], epochs=1000, learning_rate=1e-4)\n",
    "error= Perceptron.training(x_training,y_training, 'mish')"
   ]
  },
  {
   "cell_type": "code",
   "execution_count": 11,
   "metadata": {},
   "outputs": [
    {
     "name": "stdout",
     "output_type": "stream",
     "text": [
      "Accuracy:  55.00000000000001 %\n"
     ]
    }
   ],
   "source": [
    "target=[]\n",
    "for data in x_test:\n",
    "    predictions=Perceptron.predict(data)\n",
    "    target.append(predictions)\n",
    "    \n",
    "#calculating accuracy\n",
    "from sklearn.metrics import accuracy_score\n",
    "print(\"Accuracy: \", accuracy_score(target, y_test) *100,\"%\")"
   ]
  },
  {
   "cell_type": "code",
   "execution_count": null,
   "metadata": {},
   "outputs": [],
   "source": []
  }
 ],
 "metadata": {
  "kernelspec": {
   "display_name": "Python 3",
   "language": "python",
   "name": "python3"
  },
  "language_info": {
   "codemirror_mode": {
    "name": "ipython",
    "version": 3
   },
   "file_extension": ".py",
   "mimetype": "text/x-python",
   "name": "python",
   "nbconvert_exporter": "python",
   "pygments_lexer": "ipython3",
   "version": "3.8.5"
  }
 },
 "nbformat": 4,
 "nbformat_minor": 4
}
